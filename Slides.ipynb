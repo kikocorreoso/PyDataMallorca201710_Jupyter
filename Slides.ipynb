{
 "cells": [
  {
   "cell_type": "markdown",
   "metadata": {
    "slideshow": {
     "slide_type": "slide"
    }
   },
   "source": [
    "# Jupyter notebook"
   ]
  },
  {
   "cell_type": "markdown",
   "metadata": {
    "slideshow": {
     "slide_type": "slide"
    }
   },
   "source": [
    "## ¿Qué es?"
   ]
  },
  {
   "cell_type": "markdown",
   "metadata": {
    "slideshow": {
     "slide_type": "fragment"
    }
   },
   "source": [
    "* Es un REPL"
   ]
  },
  {
   "cell_type": "markdown",
   "metadata": {
    "slideshow": {
     "slide_type": "fragment"
    }
   },
   "source": [
    "* Es *Language Agnostic*"
   ]
  },
  {
   "cell_type": "markdown",
   "metadata": {
    "slideshow": {
     "slide_type": "fragment"
    }
   },
   "source": [
    "* Tecnologías web"
   ]
  },
  {
   "cell_type": "markdown",
   "metadata": {
    "slideshow": {
     "slide_type": "fragment"
    }
   },
   "source": [
    "* ..."
   ]
  },
  {
   "cell_type": "markdown",
   "metadata": {
    "collapsed": true,
    "slideshow": {
     "slide_type": "slide"
    }
   },
   "source": [
    "## Pero, ¿qué significa esto?"
   ]
  },
  {
   "cell_type": "markdown",
   "metadata": {
    "slideshow": {
     "slide_type": "fragment"
    }
   },
   "source": [
    "### Significa que puedo escribir código"
   ]
  },
  {
   "cell_type": "code",
   "execution_count": null,
   "metadata": {
    "collapsed": true,
    "slideshow": {
     "slide_type": "fragment"
    }
   },
   "outputs": [],
   "source": [
    "print('Hola, PyData')"
   ]
  },
  {
   "cell_type": "markdown",
   "metadata": {
    "collapsed": true,
    "slideshow": {
     "slide_type": "slide"
    }
   },
   "source": [
    "## Pero, ¿qué significa esto?"
   ]
  },
  {
   "cell_type": "markdown",
   "metadata": {
    "slideshow": {
     "slide_type": "fragment"
    }
   },
   "source": [
    "### ...y ejecutarlo..."
   ]
  },
  {
   "cell_type": "code",
   "execution_count": null,
   "metadata": {
    "collapsed": true,
    "slideshow": {
     "slide_type": "fragment"
    }
   },
   "outputs": [],
   "source": [
    "print('Hola, PyData')"
   ]
  },
  {
   "cell_type": "markdown",
   "metadata": {
    "collapsed": true,
    "slideshow": {
     "slide_type": "slide"
    }
   },
   "source": [
    "## Pero, ¿qué significa esto?"
   ]
  },
  {
   "cell_type": "markdown",
   "metadata": {
    "slideshow": {
     "slide_type": "fragment"
    }
   },
   "source": [
    "### ...y ver el resultado..."
   ]
  },
  {
   "cell_type": "code",
   "execution_count": 9,
   "metadata": {
    "slideshow": {
     "slide_type": "fragment"
    }
   },
   "outputs": [
    {
     "name": "stdout",
     "output_type": "stream",
     "text": [
      "Hola, PyData\n"
     ]
    }
   ],
   "source": [
    "print('Hola, PyData')"
   ]
  },
  {
   "cell_type": "markdown",
   "metadata": {
    "slideshow": {
     "slide_type": "slide"
    }
   },
   "source": [
    "## Y, además..."
   ]
  },
  {
   "cell_type": "markdown",
   "metadata": {
    "slideshow": {
     "slide_type": "fragment"
    }
   },
   "source": [
    "### Puedo documentar mi código de forma más interesante que con un editor de texto o IDE al uso donde estamos limitados a comentarios en el código..."
   ]
  },
  {
   "cell_type": "markdown",
   "metadata": {
    "slideshow": {
     "slide_type": "fragment"
    }
   },
   "source": [
    "### Y, como somos científicos, esto ayuda a la reproducibilidad del código"
   ]
  },
  {
   "cell_type": "markdown",
   "metadata": {
    "slideshow": {
     "slide_type": "slide"
    }
   },
   "source": [
    "## Estoy mintiendo un poco..."
   ]
  },
  {
   "cell_type": "markdown",
   "metadata": {
    "slideshow": {
     "slide_type": "fragment"
    }
   },
   "source": [
    "### El notebook es solo un *frontend*, solo una UI, que me permite interactuar con un kernel (*backend*)."
   ]
  },
  {
   "cell_type": "markdown",
   "metadata": {
    "slideshow": {
     "slide_type": "fragment"
    }
   },
   "source": [
    "### El notebook nació como *frontend* para IPython, un kernel (*backend*) de Python. Pero pronto se desacopló del mismo para poder añadir otros muchos kernels de otros muchos lenguajes (*language agnostic*)."
   ]
  },
  {
   "cell_type": "markdown",
   "metadata": {
    "slideshow": {
     "slide_type": "slide"
    }
   },
   "source": [
    "## Ecosistema Jupyter\n",
    "\n",
    "<img src=\"imgs/Diapositiva1.PNG\" height=\"600px\" width=\"800px\"/>"
   ]
  },
  {
   "cell_type": "markdown",
   "metadata": {
    "slideshow": {
     "slide_type": "slide"
    }
   },
   "source": [
    "## Ecosistema Jupyter\n",
    "\n",
    "<img src=\"imgs/Diapositiva2.PNG\" height=\"600px\" width=\"800px\"/>"
   ]
  },
  {
   "cell_type": "markdown",
   "metadata": {
    "slideshow": {
     "slide_type": "slide"
    }
   },
   "source": [
    "## Ecosistema Jupyter\n",
    "\n",
    "<img src=\"imgs/Diapositiva3.PNG\" height=\"600px\" width=\"800px\"/>"
   ]
  },
  {
   "cell_type": "markdown",
   "metadata": {
    "slideshow": {
     "slide_type": "slide"
    }
   },
   "source": [
    "## Ecosistema Jupyter\n",
    "\n",
    "<img src=\"imgs/Diapositiva4.PNG\" height=\"600px\" width=\"800px\"/>"
   ]
  },
  {
   "cell_type": "markdown",
   "metadata": {
    "slideshow": {
     "slide_type": "slide"
    }
   },
   "source": [
    "## Ecosistema Jupyter\n",
    "\n",
    "<img src=\"imgs/Diapositiva5.PNG\" height=\"600px\" width=\"800px\"/>"
   ]
  },
  {
   "cell_type": "markdown",
   "metadata": {
    "slideshow": {
     "slide_type": "slide"
    }
   },
   "source": [
    "## Ecosistema Jupyter\n",
    "\n",
    "<img src=\"imgs/Diapositiva6.PNG\" height=\"600px\" width=\"800px\"/>"
   ]
  },
  {
   "cell_type": "markdown",
   "metadata": {
    "slideshow": {
     "slide_type": "slide"
    }
   },
   "source": [
    "## Ecosistema Jupyter\n",
    "\n",
    "<img src=\"imgs/Diapositiva7.PNG\" height=\"600px\" width=\"800px\"/>"
   ]
  },
  {
   "cell_type": "markdown",
   "metadata": {
    "slideshow": {
     "slide_type": "slide"
    }
   },
   "source": [
    "## Ecosistema Jupyter\n",
    "\n",
    "<img src=\"imgs/Diapositiva8.PNG\" height=\"600px\" width=\"800px\"/>"
   ]
  },
  {
   "cell_type": "markdown",
   "metadata": {
    "slideshow": {
     "slide_type": "slide"
    }
   },
   "source": [
    "## Ecosistema Jupyter\n",
    "\n",
    "<img src=\"imgs/Diapositiva9.PNG\" height=\"600px\" width=\"800px\"/>"
   ]
  },
  {
   "cell_type": "markdown",
   "metadata": {
    "slideshow": {
     "slide_type": "slide"
    }
   },
   "source": [
    "## Ecosistema Jupyter\n",
    "\n",
    "<img src=\"imgs/Diapositiva10.PNG\" height=\"600px\" width=\"800px\"/>"
   ]
  },
  {
   "cell_type": "markdown",
   "metadata": {
    "slideshow": {
     "slide_type": "slide"
    }
   },
   "source": [
    "## Ecosistema Jupyter\n",
    "\n",
    "<img src=\"imgs/Diapositiva11.PNG\" height=\"600px\" width=\"800px\"/>"
   ]
  },
  {
   "cell_type": "markdown",
   "metadata": {
    "slideshow": {
     "slide_type": "slide"
    }
   },
   "source": [
    "## Ecosistema Jupyter\n",
    "\n",
    "<img src=\"imgs/Diapositiva12.PNG\" height=\"600px\" width=\"800px\"/>"
   ]
  },
  {
   "cell_type": "markdown",
   "metadata": {
    "slideshow": {
     "slide_type": "slide"
    }
   },
   "source": [
    "## Ecosistema Jupyter\n",
    "\n",
    "<img src=\"imgs/repos_map.png\" height=\"600px\" width=\"500px\"/>"
   ]
  },
  {
   "cell_type": "markdown",
   "metadata": {
    "slideshow": {
     "slide_type": "slide"
    }
   },
   "source": [
    "## Veamos un ejemplo de un flujo de trabajo normal con el notebook"
   ]
  },
  {
   "cell_type": "markdown",
   "metadata": {
    "slideshow": {
     "slide_type": "fragment"
    }
   },
   "source": [
    "## [notebook ejemplo](notebook_ejemplo.ipynb)"
   ]
  },
  {
   "cell_type": "markdown",
   "metadata": {
    "slideshow": {
     "slide_type": "slide"
    }
   },
   "source": [
    "# Enlaces interesantes\n",
    "\n",
    "* [Jupyter](http://jupyter.org/)\n",
    "\n",
    "\n",
    "* [Docs](http://jupyter.org/documentation.html)\n",
    "\n",
    "\n",
    "* [Galería](https://nbviewer.jupyter.org/)\n",
    "\n",
    "\n",
    "* [Galería](http://nb.bianp.net/)"
   ]
  },
  {
   "cell_type": "markdown",
   "metadata": {
    "slideshow": {
     "slide_type": "slide"
    }
   },
   "source": [
    "# ¡GRACIAS!\n",
    "\n",
    "|   |   |\n",
    "|---|---|\n",
    "|<img style=\"float:left\" src=\"imgs/github.png\" width=\"50px\" height=\"50px\"/>|<h1 class=\"text-muted\">@kikocorreoso</h1>|\n",
    "|<img style=\"float:left\" src=\"imgs/gitlab.png\" width=\"50px\" height=\"50px\"/>|<h1 class=\"text-important\">@kikocorreoso</h1>|\n",
    "|<img style=\"float:left\" src=\"imgs/bitbucket.png\" width=\"50px\" height=\"50px\"/>|<h1 class=\"text-success\">@kikocorreoso</h1>|\n",
    "|<img style=\"float:left\" src=\"imgs/blue-twitter.png\" width=\"50px\" height=\"50px\"/>|<h1 class=\"text-info\">@pybonacci</h1>|\n",
    "|<img style=\"float:left\" src=\"imgs/blue-twitter.png\" width=\"50px\" height=\"50px\"/>|<h1 class=\"text-warning\">@Dr_Meteo</h1>|\n",
    "|<img style=\"float:left\" src=\"imgs/www.png\" width=\"50px\" height=\"50px\"/>|<h1 class=\"text-danger\">pybonacci.org</h1>|\n",
    "|<img style=\"float:left\" src=\"imgs/mail.png\" width=\"40px\" height=\"40px\"/>|<h1 class=\"text-danger\">kiko [ at ] pybonacci.org</h1>|\n",
    "|   |   |"
   ]
  }
 ],
 "metadata": {
  "celltoolbar": "Slideshow",
  "kernelspec": {
   "display_name": "Python 3",
   "language": "python",
   "name": "python3"
  },
  "language_info": {
   "codemirror_mode": {
    "name": "ipython",
    "version": 3
   },
   "file_extension": ".py",
   "mimetype": "text/x-python",
   "name": "python",
   "nbconvert_exporter": "python",
   "pygments_lexer": "ipython3",
   "version": "3.6.3"
  }
 },
 "nbformat": 4,
 "nbformat_minor": 2
}
